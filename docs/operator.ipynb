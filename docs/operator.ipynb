{
 "cells": [
  {
   "cell_type": "markdown",
   "metadata": {},
   "source": [
    "# Proximal Operators ([scarlet.operator](operator.ipynb))\n",
    "\n",
    "The [operator](operator.ipynb) package includes an additional set of proximal operators beyond the basic set contained in the [proxmin](https://github.com/pmelchior/proxmin) package."
   ]
  },
  {
   "cell_type": "raw",
   "metadata": {},
   "source": [
    "Reference/API\n",
    "-------------\n",
    ".. automodule:: scarlet.operator\n",
    "    :members:"
   ]
  }
 ],
 "metadata": {
  "celltoolbar": "Raw Cell Format",
  "kernelspec": {
   "display_name": "Python 3",
   "language": "python",
   "name": "python3"
  },
  "language_info": {
   "codemirror_mode": {
    "name": "ipython",
    "version": 3
   },
   "file_extension": ".py",
   "mimetype": "text/x-python",
   "name": "python",
   "nbconvert_exporter": "python",
   "pygments_lexer": "ipython3",
   "version": "3.7.2"
  }
 },
 "nbformat": 4,
 "nbformat_minor": 2
}
