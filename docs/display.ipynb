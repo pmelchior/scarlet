{
 "cells": [
  {
   "cell_type": "markdown",
   "metadata": {},
   "source": [
    "# Visualization ([scarlet.display](display.ipynb#Reference/API))\n",
    "\n",
    "It is often useful to visualize deblending results in [matplotlib](https://matplotlib.org) or similar plotting software.\n",
    "[scarlet](index.rst) includes several convenience methods to scale flux and convert multiband image data into RGB arrays.\n",
    "\n",
    "For more information on visualizing deblender results see [Loading and Displaying a Model](overview.ipynb#Loading-and-Displaying-a-Model)."
   ]
  },
  {
   "cell_type": "markdown",
   "metadata": {},
   "source": [
    "## Reference/API"
   ]
  },
  {
   "cell_type": "raw",
   "metadata": {
    "raw_mimetype": "text/restructuredtext"
   },
   "source": [
    ".. automodule:: scarlet.display\n",
    "    :members:"
   ]
  }
 ],
 "metadata": {
  "celltoolbar": "Raw Cell Format",
  "kernelspec": {
   "display_name": "Python 3",
   "language": "python",
   "name": "python3"
  },
  "language_info": {
   "codemirror_mode": {
    "name": "ipython",
    "version": 3
   },
   "file_extension": ".py",
   "mimetype": "text/x-python",
   "name": "python",
   "nbconvert_exporter": "python",
   "pygments_lexer": "ipython3",
   "version": "3.6.2"
  }
 },
 "nbformat": 4,
 "nbformat_minor": 2
}
