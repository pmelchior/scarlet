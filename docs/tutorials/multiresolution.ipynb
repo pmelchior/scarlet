{
 "cells": [
  {
   "cell_type": "markdown",
   "metadata": {},
   "source": [
    "# Multi-resolution Deblending\n",
    "\n",
    "This tutorial shows how to deblending images taken from different telescopes with different resolutions. In this case we will use a multiband observation with the Hyper-Sprime Cam (HSC) and a single band, high resolution image from teh Hubble Space Telescope (HST). Before using this tutorial you should be familiar with the *scarlet* [User Guide](../user_docs.ipynb) and how to deblend single resolution images."
   ]
  },
  {
   "cell_type": "code",
   "execution_count": null,
   "metadata": {},
   "outputs": [],
   "source": [
    "# Import Packages and setup\n",
    "import logging\n",
    "\n",
    "import numpy as np\n",
    "\n",
    "import scarlet\n",
    "\n",
    "import scarlet.display\n",
    "import astropy.io.fits as fits\n",
    "from astropy.wcs import WCS\n",
    "from astropy.visualization.lupton_rgb import AsinhMapping, LinearMapping\n",
    "import sep\n",
    "\n",
    "%matplotlib inline\n",
    "\n",
    "import matplotlib\n",
    "import matplotlib.pyplot as plt\n",
    "# use a better colormap and don't interpolate the pixels\n",
    "matplotlib.rc('image', cmap='gist_stern')\n",
    "matplotlib.rc('image', interpolation='none')"
   ]
  },
  {
   "cell_type": "markdown",
   "metadata": {},
   "source": [
    "## Load and display the sample data\n",
    "\n",
    "We first load the HSC and HST images, swapping the byte order if necessary because a bug in astropy does not respect the local endianness."
   ]
  },
  {
   "cell_type": "code",
   "execution_count": null,
   "metadata": {},
   "outputs": [],
   "source": [
    "# Load the HSC image data\n",
    "obs_hdu = fits.open('../../data/test_resampling/Cut_HSC.fits')\n",
    "data_hsc = obs_hdu[0].data.byteswap().newbyteorder()\n",
    "wcs_hsc = WCS(obs_hdu[0].header)\n",
    "channels_hsc = ['r','i','z']\n",
    "\n",
    "# Load the HSC PSF data\n",
    "psf_hsc = fits.open('../../data/test_resampling/PSF_HSC.fits')[0].data\n",
    "x,y = np.where(psf_hsc[0]*0==0)\n",
    "psf_hsc /= psf_hsc.sum(axis=(1,2))[:,None,None]\n",
    "Np1, Np2 = psf_hsc[0].shape\n",
    "\n",
    "# Load the HST image data\n",
    "hst_hdu = fits.open('../../data/test_resampling/Cut_HST.fits')\n",
    "data_hst = hst_hdu[0].data\n",
    "wcs_hst = WCS(hst_hdu[0].header)\n",
    "channels_hst = ['F814W']\n",
    "\n",
    "# apply wcs correction\n",
    "#wcs_hst.wcs.crval += 2.4750118475607095e-05*np.array([-np.cos(0.4136047623181346 ), -np.sin(0.4136047623181346 )])\n",
    "# Load the HST PSF data\n",
    "psf_hst = fits.open('../../data/test_resampling/PSF_HST.fits')[0].data\n",
    "psf_hst /= psf_hst.sum()\n",
    "psf_hst = psf_hst[None,:,:]\n",
    "\n",
    "\n",
    "# Scale the HST data\n",
    "n1,n2 = np.shape(data_hst)\n",
    "data_hst = data_hst.reshape(1, n1, n2).byteswap().newbyteorder()#*np.max(data_hsc)/np.max(data_hst)\n",
    "\n",
    "r, N1, N2 = data_hsc.shape"
   ]
  },
  {
   "cell_type": "markdown",
   "metadata": {},
   "source": [
    "Next we have to create a source catalog for the images. Since HST is higher resolution and prone to less blending, we use it for detection but we also run detection on the HSC image to calculate the background RMS:"
   ]
  },
  {
   "cell_type": "code",
   "execution_count": null,
   "metadata": {},
   "outputs": [],
   "source": [
    "def makeCatalog(img):\n",
    "    if np.size(img.shape) == 3:\n",
    "        detect = img.mean(axis=0) # simple average for detection\n",
    "    else:\n",
    "        detect = img#.byteswap().newbyteorder()\n",
    "        \n",
    "    bkg = sep.Background(detect)\n",
    "    catalog = sep.extract(detect, 4, err=bkg.globalrms)\n",
    "    if np.size(img.shape) == 3:\n",
    "        bg_rms = np.array([sep.Background(band).globalrms for band in img])\n",
    "    else:\n",
    "        bg_rms =  sep.Background(detect).globalrms\n",
    "    return catalog, bg_rms\n",
    "\n",
    "catalog_hst, bg_rms_hst = makeCatalog(data_hst)\n",
    "catalog_hsc, bg_rms_hsc = makeCatalog(data_hsc)"
   ]
  },
  {
   "cell_type": "markdown",
   "metadata": {},
   "source": [
    "Finally we can visualize both the multiband HSC and single band HST images in their native resolutions:"
   ]
  },
  {
   "cell_type": "code",
   "execution_count": null,
   "metadata": {},
   "outputs": [],
   "source": [
    "# Create a color mapping for the HSC image\n",
    "hsc_norm = AsinhMapping(minimum=data_hsc.min(), stretch=data_hsc.max()/20, Q=10)\n",
    "\n",
    "# Get the source coordinates from the HST catalog\n",
    "xo,yo = catalog_hst['x'], catalog_hst['y']\n",
    "# Convert the HST coordinates to the HSC WCS\n",
    "ra, dec = wcs_hst.wcs_pix2world(yo,xo,0)\n",
    "Yo,Xo, l = wcs_hsc.wcs_world2pix(ra, dec, 0, 0)\n",
    "\n",
    "# Map the HSC image to RGB\n",
    "img_rgb = scarlet.display.img_to_rgb(data_hsc, norm=hsc_norm)\n",
    "# Apply Asinh to the HST data\n",
    "hst_img = np.arcsinh(data_hst[0])\n",
    "\n",
    "plt.subplot(121)\n",
    "plt.imshow(img_rgb)\n",
    "plt.plot(Xo,Yo, 'o')\n",
    "plt.subplot(122)\n",
    "plt.imshow(hst_img)\n",
    "plt.show()"
   ]
  },
  {
   "cell_type": "markdown",
   "metadata": {},
   "source": [
    "## Create the Frame and Observations\n",
    "\n",
    "Unlike the single resolution examples, we now have two different instruments with different pixel resolutions, so we need two different observations. Since the HST image is at a much higher resolution we define our [Frame](../observation.ipynb#scarlet.observation.Frame) to use the HST PSF in the HST resolution, so our HST observation is a regular [Observation](../observation.ipynb#scarlet.observation.Observation). Since the HSC images need to be upsampled we use the [LowResObservation](../observation.ipynb#scarlet.observation.LowResObservation) class."
   ]
  },
  {
   "cell_type": "code",
   "execution_count": null,
   "metadata": {},
   "outputs": [],
   "source": [
    "# Initialize the frame using the HST PSF and WCS\n",
    "channels = channels_hsc + channels_hst\n",
    "shape = (len(channels), n1,n2)\n",
    "frame = scarlet.Frame(shape, wcs=wcs_hst, psfs=psf_hst, channels=channels)\n",
    "\n",
    "# define two observation packages and match to frame\n",
    "obs_hst = scarlet.Observation(data_hst, wcs=wcs_hst, psfs=psf_hst, channels=channels_hst).match(frame)\n",
    "obs_hsc = scarlet.LowResObservation(data_hsc,  wcs=wcs_hsc, psfs=psf_hsc, channels=channels_hsc).match(frame)\n",
    "\n",
    "# Keep the order of the observations consistent with the `channels` parameter\n",
    "# This implementation is a bit of a hack and will be refined in the future\n",
    "obs = [obs_hsc, obs_hst]\n",
    "\n",
    "# Set the background levels for both the HSC and HST images\n",
    "bg_rms = [bg_rms_hsc, bg_rms_hst]"
   ]
  },
  {
   "cell_type": "code",
   "execution_count": null,
   "metadata": {},
   "outputs": [],
   "source": [
    "x = np.zeros(data_hsc.shape[1:])\n",
    "x[obs_hsc._coord_lr[0], obs_hsc._coord_lr[1]] = 1\n",
    "x[obs_hsc._coord_lr[0], obs_hsc._coord_lr[1]] = np.dot(data_hst.flatten(), obs_hsc._resconv_op[0]/100.)\n",
    "plt.plot(obs_hsc._coord_hr[1]); plt.show()\n",
    "plt.imshow(x); plt.show()\n"
   ]
  },
  {
   "cell_type": "markdown",
   "metadata": {},
   "source": [
    "## Initialize the Sources\n",
    "\n",
    "The standard sources discussed in the [User Guide](../user_docs.ipynb#Components-and-Sources) are designed to be initialized with a single dataset. For multi-resolution models we need to use the [CombinedExtendedSource](../source.ipynb#scarlet.source.CombinedExtendedSource) to initialize extended sources by using the morphology from a high resolution observation and the SED from all observations. Because the initialization takes a list of observations, the `obs_idx` argument tells the [CombinedExtendedSource](../source.ipynb#scarlet.source.CombinedExtendedSource) which observation in the list of observations is used to initialize the morphology."
   ]
  },
  {
   "cell_type": "code",
   "execution_count": null,
   "metadata": {},
   "outputs": [],
   "source": [
    "sources = [\n",
    "    scarlet.CombinedExtendedSource(frame, (ra[i], dec[i]), obs, bg_rms, symmetric=False, monotonic=True, obs_idx=1)\n",
    "    for i in range(ra.size)\n",
    "]"
   ]
  },
  {
   "cell_type": "markdown",
   "metadata": {},
   "source": [
    "## Intialize the blend\n",
    "\n",
    "The process of initializing a [Blend](../blend.ipynb#scarlet.blend.Blend) with multi-resolution observations is considerably more time consuming that the single resolution version, where the mappings must be created to map from the low resolution to high resolution frame, as well as matching the PSFs in all resolutions."
   ]
  },
  {
   "cell_type": "code",
   "execution_count": null,
   "metadata": {},
   "outputs": [],
   "source": [
    "blend = scarlet.Blend(sources, obs)"
   ]
  },
  {
   "cell_type": "markdown",
   "metadata": {},
   "source": [
    "## Display the initial guess\n",
    "\n",
    "Compare the initial guess of the model in both the model frame and HSC observation frame"
   ]
  },
  {
   "cell_type": "code",
   "execution_count": null,
   "metadata": {},
   "outputs": [],
   "source": [
    "# Load the model and calculate the residual\n",
    "model = blend.get_model()\n",
    "model_lr = obs_hsc.render(model)\n",
    "init_rgb = scarlet.display.img_to_rgb(model[:-1], norm=hsc_norm)\n",
    "init_rgb_lr = scarlet.display.img_to_rgb(model_lr, norm=hsc_norm)\n",
    "residual_lr = data_hsc - model_lr\n",
    "# Trim the bottom source not part of the blend from the image\n",
    "residual_lr_rgb = scarlet.display.img_to_rgb(residual_lr[:,:-5])\n",
    "\n",
    "# Get the HR residual\n",
    "residual_hr = (data_hst - model)[0]\n",
    "vmax = residual_hr.max()\n",
    "\n",
    "plt.figure(figsize=(15, 10))\n",
    "plt.subplot(231)\n",
    "plt.imshow(img_rgb)\n",
    "plt.title(\"Data\")\n",
    "plt.subplot(232)\n",
    "plt.imshow(init_rgb)\n",
    "plt.title(\"HighRes Model\")\n",
    "plt.subplot(233)\n",
    "plt.imshow(init_rgb_lr)\n",
    "plt.title(\"LowRes Model\")\n",
    "plt.subplot(235)\n",
    "plt.imshow(residual_hr, cmap=\"seismic\", vmin=-vmax, vmax=vmax)\n",
    "plt.colorbar(fraction=.045)\n",
    "plt.title(\"HST residual\")\n",
    "plt.subplot(236)\n",
    "plt.imshow(residual_lr_rgb)\n",
    "plt.title(\"HSC residual\")\n",
    "plt.show()"
   ]
  },
  {
   "cell_type": "markdown",
   "metadata": {},
   "source": [
    "## Fit the model"
   ]
  },
  {
   "cell_type": "code",
   "execution_count": null,
   "metadata": {},
   "outputs": [],
   "source": [
    "blend.fit(200, e_rel = 1e-3)\n",
    "print(\"scarlet ran for {0} iterations\".format(blend.it))"
   ]
  },
  {
   "cell_type": "markdown",
   "metadata": {},
   "source": [
    "### View the full model\n",
    "First we load the model for the entire blend and its residual. Then we display the model using the same $sinh^{-1}$ stretch as the full image and a linear stretch for the residual to see the improvement from our initial guess."
   ]
  },
  {
   "cell_type": "code",
   "execution_count": null,
   "metadata": {},
   "outputs": [],
   "source": [
    "model = blend.get_model()\n",
    "model_hr = obs_hst.render(model)\n",
    "model_lr = obs_hsc.render(model)\n",
    "rgb = scarlet.display.img_to_rgb(model[:-1], norm=hsc_norm)\n",
    "rgb_lr = scarlet.display.img_to_rgb(model_lr, norm=hsc_norm)\n",
    "residual_lr = data_hsc - model_lr\n",
    "# Trim the bottom source not part of the blend from the image\n",
    "residual_lr_rgb = scarlet.display.img_to_rgb(residual_lr[:,:-5])\n",
    "\n",
    "# Get the HR residual\n",
    "residual_hr = (data_hst - model_hr)[0]\n",
    "vmax = residual_hr.max()\n",
    "\n",
    "plt.figure(figsize=(15, 10))\n",
    "plt.subplot(231)\n",
    "plt.imshow(img_rgb)\n",
    "plt.title(\"Data\")\n",
    "plt.subplot(232)\n",
    "plt.imshow(rgb)\n",
    "plt.title(\"HighRes Model\")\n",
    "plt.subplot(233)\n",
    "plt.imshow(rgb_lr)\n",
    "plt.title(\"LowRes Model\")\n",
    "plt.subplot(235)\n",
    "plt.imshow(residual_hr, cmap=\"seismic\", vmin=-vmax, vmax=vmax)\n",
    "plt.colorbar(fraction=.045)\n",
    "plt.title(\"HST residual\")\n",
    "plt.subplot(236)\n",
    "plt.imshow(residual_lr_rgb)\n",
    "plt.title(\"HSC residual\")\n",
    "plt.show()"
   ]
  },
  {
   "cell_type": "markdown",
   "metadata": {},
   "source": [
    "### View the source models\n",
    "It can also be useful to view the model for each source. For each source we extract the portion of the image contained in the sources bounding box, the true simulated source flux, and the model of the source, scaled so that all of the images have roughly the same pixel scale."
   ]
  },
  {
   "cell_type": "code",
   "execution_count": null,
   "metadata": {
    "scrolled": false
   },
   "outputs": [],
   "source": [
    "has_truth = False\n",
    "axes = 2\n",
    "\n",
    "for k,src in enumerate(blend.sources):\n",
    "    # Get the model for a single source\n",
    "    model = src.get_model()\n",
    "    model_lr = obs_hsc.render(model)\n",
    "    \n",
    "    # Display the low resolution image and residuals\n",
    "    img_lr_rgb = scarlet.display.img_to_rgb(model_lr)\n",
    "    res = data_hsc-model_lr\n",
    "    res_rgb = scarlet.display.img_to_rgb(res)\n",
    "    \n",
    "    plt.figure(figsize=(15,15))\n",
    "    \n",
    "    plt.subplot(331)\n",
    "    plt.imshow(img_rgb)\n",
    "    plt.plot(Xo[k],Yo[k], 'x', markersize = 10)\n",
    "    plt.title(\"HSC Data\")\n",
    "    plt.subplot(332)\n",
    "    plt.imshow(img_lr_rgb)\n",
    "    plt.title(\"LR Model\")\n",
    "    plt.subplot(333)\n",
    "    plt.imshow(res_rgb)\n",
    "    plt.title(\"LR Data - Model\")\n",
    "    \n",
    "    img_hr = obs_hst.render(model)\n",
    "    res = data_hst-img_hr[-1]\n",
    "    vmax = res.max()\n",
    "    \n",
    "    plt.subplot(334)\n",
    "    plt.imshow(data_hst[0], cmap='gist_stern')\n",
    "    plt.plot(xo[k],yo[k], 'o', markersize = 5)\n",
    "    plt.title(\"HST Data\")\n",
    "    plt.subplot(335)\n",
    "    plt.imshow(img_hr[-1])\n",
    "    plt.title(\"HR Model\")\n",
    "    plt.subplot(336)\n",
    "    plt.imshow(res[0], cmap='seismic', vmin=-vmax, vmax=vmax)\n",
    "    plt.title(\"HR Data - Model\")\n",
    "    \n",
    "    # Display the morphology in high resolution\n",
    "    morph_hr = src.morph\n",
    "    plt.subplot(337)\n",
    "    plt.imshow(morph_hr)\n",
    "    plt.title('HR Morphology')\n",
    "    \n",
    "    # Display the morphology in low resolution\n",
    "    # Eventually this will be a class method,\n",
    "    # but for now we have to calculate this explicitly\n",
    "    morph_lr = np.zeros((N1,N2))\n",
    "    morph_lr[obs_hsc._coord_lr[0].astype(int), obs_hsc._coord_lr[1]] = np.dot(morph_hr.flatten(),obs_hsc._resconv_op[0,:,:])\n",
    "    plt.subplot(338)\n",
    "    plt.imshow(morph_lr)\n",
    "    plt.title('LR Morphology')\n",
    "    plt.subplot(339)\n",
    "    plt.plot(src.sed, '.-')\n",
    "    plt.title('SED')\n",
    "    plt.suptitle(\"Source {0}\".format(k), y=.92)\n",
    "    plt.show()"
   ]
  },
  {
   "cell_type": "code",
   "execution_count": null,
   "metadata": {},
   "outputs": [],
   "source": []
  },
  {
   "cell_type": "code",
   "execution_count": null,
   "metadata": {},
   "outputs": [],
   "source": []
  }
 ],
 "metadata": {
  "celltoolbar": "Raw Cell Format",
  "kernelspec": {
   "display_name": "Python 3",
   "language": "python",
   "name": "python3"
  },
  "language_info": {
   "codemirror_mode": {
    "name": "ipython",
    "version": 3
   },
   "file_extension": ".py",
   "mimetype": "text/x-python",
   "name": "python",
   "nbconvert_exporter": "python",
   "pygments_lexer": "ipython3",
   "version": "3.7.1"
  }
 },
 "nbformat": 4,
 "nbformat_minor": 2
}
