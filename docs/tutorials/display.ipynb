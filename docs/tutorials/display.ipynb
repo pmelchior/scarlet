{
 "cells": [
  {
   "cell_type": "markdown",
   "metadata": {},
   "source": [
    "# Displaying Scenes\n",
    "\n",
    "Before we start to constrain and fit the model this is a useful time to learn how to display a scarlet model. [Lupton et al. 2004](https://iopscience.iop.org/article/10.1086/382245) showed the advantage of using the `arcsinh` function to display astrophysical images with a proper normalization to preserve colors while showing objects with a wide range of fluxes. A slightly modified version of their algorithm\n",
    "\n",
    "$$f(x) = \\frac{1}{Q} \\sinh^{-1} \\left( Q \\frac{x-x_\\textrm{min}}{\\textrm{stretch}} \\right)$$\n",
    "\n",
    "where `Q` is the same as the $\\beta$ softening parameter from [Lupton et al. 2004](https://iopscience.iop.org/article/10.1086/382245) and `stretch` determines the size of the linear region, has been implemented in the [LSST software stack](https://github.com/lsst/afw/blob/master/python/lsst/afw/display/rgb/rgbContinued.py#L282-L321) and also in [astropy.visualization.make_lupton_rgb](http://docs.astropy.org/en/stable/api/astropy.visualization.make_lupton_rgb.html#astropy.visualization.make_lupton_rgb). In this document we make use of the image mapping classes contained in the [lupton_rgb.py](https://github.com/astropy/astropy/blob/master/astropy/visualization/lupton_rgb.py) module in astropy to have a bit more control over how we display our images.\n",
    "\n",
    "*scarlet* adds the additional functionality of mapping multiband images with *more* than three colors into RGB channels. The [img_to_channels](display.ipynb#scarlet.display.img_to_channels) method takes a multiband image `img` as an input and maps all of the bands to RGB colors using the optional `filter_weights` parameter. For example, one band is mapped to all three channels, making a black and white image, while three bands are mapped directly to the RGB channels in reverse order:"
   ]
  },
  {
   "cell_type": "code",
   "execution_count": null,
   "metadata": {},
   "outputs": [],
   "source": [
    "import scarlet.display\n",
    "\n",
    "print(\"Mapping from 1 band to RGB:\\n\", scarlet.display.get_default_filter_weight(1))\n",
    "print(\"Mapping from 3 bands to RGB:\\n\", scarlet.display.get_default_filter_weight(3))"
   ]
  },
  {
   "cell_type": "markdown",
   "metadata": {},
   "source": [
    "In the typical case, where there are more than 3 bands in an image cube, we see that multiple bands are mapped to the same channel, and similarly a single band may be mapped to multiple channels:"
   ]
  },
  {
   "cell_type": "code",
   "execution_count": null,
   "metadata": {},
   "outputs": [],
   "source": [
    "print(\"Mapping from 5 bands to RGB:\\n\", scarlet.display.get_default_filter_weight(5))"
   ]
  },
  {
   "cell_type": "markdown",
   "metadata": {},
   "source": [
    "This makes it possible to map the *gri* bands in our image to the RGB colors using the Lupton color scaling using"
   ]
  },
  {
   "cell_type": "code",
   "execution_count": null,
   "metadata": {},
   "outputs": [],
   "source": [
    "# Set the arcsinh color scaling object\n",
    "asinh = AsinhMapping(minimum=images.min(), stretch=0.1, Q=10)\n",
    "# Scale the RGB channels for the image\n",
    "img_rgb = scarlet.display.img_to_rgb(images[:3], norm=asinh)\n",
    "# Display the image\n",
    "plt.figure(figsize=(8, 8))\n",
    "plt.imshow(img_rgb)\n",
    "# Mark each source from the catalog in the image\n",
    "for k, src in enumerate(catalog):\n",
    "    plt.text(src[\"x\"], src[\"y\"], str(k), color=\"r\")\n",
    "plt.show()"
   ]
  },
  {
   "cell_type": "markdown",
   "metadata": {},
   "source": [
    "This can be a useful visualization to see the color gradients that exist between different bands but we want to make sure that our deblender outputs do not produce residuals in any band. For this we can pass the entire `images` array to [img_to_rgb](display.ipynb#scarlet.display.img_to_rgb), using the same `asinh` normalization, and we get a representation of the entire *grizy* image using the 5-band filter weights given above:"
   ]
  },
  {
   "cell_type": "code",
   "execution_count": null,
   "metadata": {},
   "outputs": [],
   "source": [
    "img_rgb = scarlet.display.img_to_rgb(images, norm=asinh)\n",
    "plt.figure(figsize=(8, 8))\n",
    "plt.imshow(img_rgb)\n",
    "plt.show()"
   ]
  },
  {
   "cell_type": "markdown",
   "metadata": {},
   "source": [
    "Of course we might want to use a different mapping of bands to RGB, for example mapping $g \\rightarrow B$ and $y \\rightarrow R$, so we can define our own filter_weights and pass those to [img_to_rgb](display.ipynb#scarlet.display.img_to_rgb):"
   ]
  },
  {
   "cell_type": "code",
   "execution_count": null,
   "metadata": {},
   "outputs": [],
   "source": [
    "filter_weights = scarlet.display.get_default_filter_weight(5)\n",
    "filter_weights[0, :] = [0, 0, 0, 0, 1]\n",
    "filter_weights[2, :] = [1, 0, 0, 0, 0]\n",
    "filter_weights /= filter_weights.sum(axis=1)[:,None]\n",
    "print(\"New filer weights:\\n\", filter_weights)\n",
    "\n",
    "img_rgb = scarlet.display.img_to_rgb(images, norm=asinh, filter_weights=filter_weights)\n",
    "plt.figure(figsize=(8, 8))\n",
    "plt.imshow(img_rgb)\n",
    "plt.show()"
   ]
  },
  {
   "cell_type": "markdown",
   "metadata": {},
   "source": [
    "The code below shows an example of how to display all of the sources in a model to compare it with the same footprint in the observed images and will be used throughout the remainder of this document. It is beyond the scope of this document to explain in detail how this function works with [matplotlib](https://matplotlib.org) to create the plots, but it is a convenience tool to display all sources and components in a given model:"
   ]
  },
  {
   "cell_type": "code",
   "execution_count": null,
   "metadata": {},
   "outputs": [],
   "source": [
    "# Display the sources\n",
    "def display_sources(sources, observation, norm=None, subset=None, combine=False, show_sed=True):\n",
    "    \"\"\"Display the data and model for all sources in a blend\n",
    "    \n",
    "    This convenience function is used to display all (or a subset) of\n",
    "    the sources and (optionally) their SED's.\n",
    "    \"\"\"\n",
    "    if subset is None:\n",
    "        # Show all sources in the blend\n",
    "        subset = range(len(sources))\n",
    "    for m in subset:\n",
    "        # Load the model for the source\n",
    "        src = sources[m]\n",
    "        if hasattr(src, \"components\"):\n",
    "            components = len(src.components)\n",
    "        else:\n",
    "            components = 1\n",
    "        # Convolve the model with the psfs in the observation\n",
    "        model = observation.render(src.get_model())\n",
    "        # Extract the bounding box that contains the non-zero\n",
    "        # pixels in the model\n",
    "        bbox = scarlet.bbox.trim(np.sum(model, axis=0), min_value=1e-2)\n",
    "        bb = (slice(None), *bbox.slices)\n",
    "        # Adjust the stretch based on the maximum flux in the model for the current source\n",
    "        if model.max() > 10 * bg_rms.max():\n",
    "            norm = AsinhMapping(minimum=model.min(), stretch=model.max()*.05, Q=10)\n",
    "        else:\n",
    "            norm = LinearMapping(minimum=model.min(), maximum=model.max())\n",
    "        \n",
    "        # Select the image patch the overlaps with the source and convert it to an RGB image\n",
    "        img_rgb = scarlet.display.img_to_rgb(images[bb], norm=norm)\n",
    "\n",
    "        # Build a model for each component in the model\n",
    "        if hasattr(src, \"components\"):\n",
    "            rgb = []\n",
    "            for component in src.components:\n",
    "                # Convert the model to an RGB image\n",
    "                _model = observation.render(component.get_model())\n",
    "                _rgb = scarlet.display.img_to_rgb(_model[bb], norm=norm)\n",
    "                rgb.append(_rgb)\n",
    "        else:\n",
    "            # There is only a single component\n",
    "            rgb = [scarlet.display.img_to_rgb(model[bb], norm=norm)]\n",
    "\n",
    "        # Display the image and model\n",
    "        figsize = [6,3]\n",
    "        columns = 2\n",
    "        # Calculate the number of columns needed and shape of the figure\n",
    "        if show_sed:\n",
    "            figsize[0] += 3\n",
    "            columns += 1\n",
    "        if not combine:\n",
    "            figsize[0] += 3*(components-1)\n",
    "            columns += components-1\n",
    "        # Build the figure\n",
    "        fig = plt.figure(figsize=figsize)\n",
    "        ax = [fig.add_subplot(1,columns,n+1) for n in range(columns)]\n",
    "        ax[0].imshow(img_rgb)\n",
    "        ax[0].set_title(\"Data: Source {0}\".format(m))\n",
    "        for n, _rgb in enumerate(rgb):\n",
    "            ax[n+1].imshow(_rgb)\n",
    "            if combine:\n",
    "                ax[n+1].set_title(\"Initial Model\")\n",
    "            else:\n",
    "                ax[n+1].set_title(\"Component {0}\".format(n))\n",
    "        if show_sed:\n",
    "            frame = src.frame\n",
    "            if components > 1:\n",
    "                for comp in src:\n",
    "                    ax[-1].plot(comp.sed)\n",
    "            else:\n",
    "                ax[-1].plot(src.sed)\n",
    "            ax[-1].set_xticks(range(frame.C))\n",
    "            ax[-1].set_xticklabels(frame.channels)\n",
    "            ax[-1].set_title(\"SED\")\n",
    "            ax[-1].set_xlabel(\"Band\")\n",
    "            ax[-1].set_ylabel(\"Intensity\")\n",
    "        # Mark the current source in the image\n",
    "        y,x = src.pixel_center\n",
    "        ax[0].plot(x-bb[2].start, y-bb[1].start, 'rx', mew=2)\n",
    "        plt.tight_layout()\n",
    "        plt.show()"
   ]
  },
  {
   "cell_type": "markdown",
   "metadata": {},
   "source": [
    "We can now use this function to display all detected sources in the blend:"
   ]
  },
  {
   "cell_type": "code",
   "execution_count": null,
   "metadata": {},
   "outputs": [],
   "source": [
    "display_sources(sources, observation, norm=asinh)"
   ]
  }
 ],
 "metadata": {
  "celltoolbar": "Raw Cell Format",
  "kernelspec": {
   "display_name": "Python 3",
   "language": "python",
   "name": "python3"
  },
  "language_info": {
   "codemirror_mode": {
    "name": "ipython",
    "version": 3
   },
   "file_extension": ".py",
   "mimetype": "text/x-python",
   "name": "python",
   "nbconvert_exporter": "python",
   "pygments_lexer": "ipython3",
   "version": "3.7.4"
  }
 },
 "nbformat": 4,
 "nbformat_minor": 4
}
