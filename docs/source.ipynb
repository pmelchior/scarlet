{
 "cells": [
  {
   "cell_type": "markdown",
   "metadata": {},
   "source": [
    "# Sources ([scarlet.sources](source.ipynb))"
   ]
  },
  {
   "cell_type": "markdown",
   "metadata": {},
   "source": [
    "## Getting Started\n",
    "\n",
    "The base [Source](#scarlet.source.Source) class requires an initial guess at the SED and morphology of the sources (or a list of seds and morphologies if the source has mutliple components, eg. a bulge and a disk).\n",
    "For most general blends neither the SED nor the morphology are known ahead of time so a set of convenience classes: [PointSource](source.ipynb#scarlet.source.PointSource) and [ExtendedSource](source.ipynb#scarlet.source.ExtendedSource) exist to generate an initial morpholgy and SED for a source at a given location in the image.\n",
    "However, it is also possible for users to specify their own source types with custom initialization methods.\n",
    "\n",
    "See [Sources](overview.ipynb#Sources) for more on initializing and using sources."
   ]
  },
  {
   "cell_type": "raw",
   "metadata": {
    "raw_mimetype": "text/restructuredtext"
   },
   "source": [
    "Reference/API\n",
    "-------------\n",
    ".. automodule:: scarlet.source\n",
    "    :members:"
   ]
  }
 ],
 "metadata": {
  "celltoolbar": "Raw Cell Format",
  "kernelspec": {
   "display_name": "Python 3",
   "language": "python",
   "name": "python3"
  },
  "language_info": {
   "codemirror_mode": {
    "name": "ipython",
    "version": 3
   },
   "file_extension": ".py",
   "mimetype": "text/x-python",
   "name": "python",
   "nbconvert_exporter": "python",
   "pygments_lexer": "ipython3",
   "version": "3.6.2"
  }
 },
 "nbformat": 4,
 "nbformat_minor": 2
}
